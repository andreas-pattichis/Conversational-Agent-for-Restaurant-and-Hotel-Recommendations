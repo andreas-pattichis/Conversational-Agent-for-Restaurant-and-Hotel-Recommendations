{
 "cells": [
  {
   "cell_type": "markdown",
   "id": "8f76453725a88697",
   "metadata": {
    "collapsed": false
   },
   "source": [
    "# Data Preprocessing for Slot Filling (NER)"
   ]
  },
  {
   "cell_type": "code",
   "execution_count": 1,
   "id": "initial_id",
   "metadata": {
    "ExecuteTime": {
     "end_time": "2023-11-11T17:36:32.390589500Z",
     "start_time": "2023-11-11T17:36:32.345817700Z"
    },
    "collapsed": true
   },
   "outputs": [
    {
     "name": "stderr",
     "output_type": "stream",
     "text": [
      "/home/joaquin/anaconda3/envs/nli2/lib/python3.8/site-packages/tqdm/auto.py:21: TqdmWarning: IProgress not found. Please update jupyter and ipywidgets. See https://ipywidgets.readthedocs.io/en/stable/user_install.html\n",
      "  from .autonotebook import tqdm as notebook_tqdm\n",
      "2023-12-18 19:57:59.637843: I tensorflow/tsl/cuda/cudart_stub.cc:28] Could not find cuda drivers on your machine, GPU will not be used.\n",
      "2023-12-18 19:58:00.581117: I tensorflow/tsl/cuda/cudart_stub.cc:28] Could not find cuda drivers on your machine, GPU will not be used.\n",
      "2023-12-18 19:58:00.586486: I tensorflow/core/platform/cpu_feature_guard.cc:182] This TensorFlow binary is optimized to use available CPU instructions in performance-critical operations.\n",
      "To enable the following instructions: AVX2 FMA, in other operations, rebuild TensorFlow with the appropriate compiler flags.\n",
      "2023-12-18 19:58:03.322249: W tensorflow/compiler/tf2tensorrt/utils/py_utils.cc:38] TF-TRT Warning: Could not find TensorRT\n"
     ]
    }
   ],
   "source": [
    "import pandas as pd\n",
    "import ast\n",
    "import json\n",
    "\n",
    "import os\n",
    "\n",
    "os.chdir(\"../../\")\n",
    "\n",
    "\n",
    "from slot_extraction.utilities.slots import filter_dataset, construct_slot_extraction_data\n",
    "from datasets import DatasetDict, load_dataset\n",
    "\n",
    "dataset = load_dataset(\"multi_woz_v22\")\n",
    "\n",
    "filtered_train = filter_dataset(dataset['train'])\n",
    "slot_data_train = construct_slot_extraction_data(filtered_train)\n",
    "\n",
    "filtered_validation = filter_dataset(dataset['validation'])\n",
    "slot_data_validation = construct_slot_extraction_data(filtered_validation)\n",
    "\n",
    "filtered_test = filter_dataset(dataset['test'])\n",
    "slot_data_test = construct_slot_extraction_data(filtered_test)"
   ]
  },
  {
   "cell_type": "code",
   "execution_count": 12,
   "id": "bd4be1ca364d8ccd",
   "metadata": {
    "ExecuteTime": {
     "end_time": "2023-11-11T17:36:33.694259600Z",
     "start_time": "2023-11-11T17:36:33.684001700Z"
    },
    "collapsed": false
   },
   "outputs": [],
   "source": [
    "def label_words_csv(row):\n",
    "    entities = row['values']\n",
    "    text = row['utterance']\n",
    "    words = text.split()\n",
    "\n",
    "    # Initialize labels for each word as 'O'\n",
    "    word_labels = ['O'] * len(words)\n",
    "\n",
    "    for entity, (value, char_span) in entities.items():\n",
    "        if char_span is None or None in char_span:\n",
    "            continue\n",
    "\n",
    "        # Convert character span to word span\n",
    "        span_start = text[:char_span[0]].count(' ')\n",
    "        span_end = text[:char_span[1]].count(' ')\n",
    "\n",
    "        # Assign labels to the words within the span\n",
    "        if span_start < len(words):\n",
    "            word_labels[span_start] = 'B-' + entity\n",
    "            for i in range(span_start + 1, min(span_end + 1, len(words))):\n",
    "                word_labels[i] = 'I-' + entity\n",
    "\n",
    "    # Convert the list of labels to a string representation\n",
    "    label_string = str(word_labels)\n",
    "    return {'text': ' '.join(words), 'labels': label_string}"
   ]
  },
  {
   "cell_type": "code",
   "execution_count": 10,
   "id": "1836e82ec4092230",
   "metadata": {
    "ExecuteTime": {
     "end_time": "2023-11-11T17:36:35.941280200Z",
     "start_time": "2023-11-11T17:36:35.753972800Z"
    },
    "collapsed": false
   },
   "outputs": [],
   "source": [
    "from transformers import AutoTokenizer\n",
    "import ast\n",
    "\n",
    "# Initialize the tokenizer (use the same model as your training script)\n",
    "tokenizer = AutoTokenizer.from_pretrained(\"bert-base-uncased\")\n",
    "\n",
    "def label_tokens_json(row):\n",
    "    text = row['utterance']\n",
    "    entities = row['values']\n",
    "\n",
    "    # Tokenize the text\n",
    "    tokenized_input = tokenizer(text, add_special_tokens=False, return_offsets_mapping=True)\n",
    "    tokens = tokenized_input.tokens()\n",
    "    offset_mapping = tokenized_input[\"offset_mapping\"]\n",
    "\n",
    "    # Initialize labels for each token as 'O'\n",
    "    token_labels = ['O'] * len(tokens)\n",
    "\n",
    "    for entity, (value, char_span) in entities.items():\n",
    "        if char_span is None or None in char_span:\n",
    "            continue\n",
    "\n",
    "        entity_start, entity_end = char_span\n",
    "\n",
    "        # Find tokens covered by the span and assign them labels\n",
    "        for idx, (start, end) in enumerate(offset_mapping):\n",
    "            if start >= entity_end:\n",
    "                break\n",
    "            if end > entity_start:\n",
    "                if start == entity_start:\n",
    "                    token_labels[idx] = 'B-' + entity\n",
    "                else:\n",
    "                    token_labels[idx] = 'I-' + entity\n",
    "\n",
    "    # Merge subwords and their labels into words\n",
    "    merged_tokens = []\n",
    "    merged_labels = []\n",
    "    buffer_token = \"\"\n",
    "    buffer_label = \"\"\n",
    "\n",
    "    for token, label in zip(tokens, token_labels):\n",
    "        if token.startswith(\"##\"):\n",
    "            buffer_token += token[2:]  # Remove '##' and append\n",
    "        else:\n",
    "            if buffer_token:\n",
    "                # Append the previous buffered token\n",
    "                merged_tokens.append(buffer_token)\n",
    "                merged_labels.append(buffer_label)\n",
    "                buffer_token = \"\"\n",
    "                buffer_label = \"\"\n",
    "            buffer_token = token\n",
    "            buffer_label = label\n",
    "\n",
    "    # Append the last buffered token\n",
    "    if buffer_token:\n",
    "        merged_tokens.append(buffer_token)\n",
    "        merged_labels.append(buffer_label)\n",
    "\n",
    "    return {'text': merged_tokens, 'ner_tags': merged_labels}"
   ]
  },
  {
   "cell_type": "code",
   "execution_count": 11,
   "id": "13495733",
   "metadata": {},
   "outputs": [
    {
     "data": {
      "text/plain": [
       "{'text': ['i',\n",
       "  'need',\n",
       "  'a',\n",
       "  'place',\n",
       "  'to',\n",
       "  'dine',\n",
       "  'in',\n",
       "  'the',\n",
       "  'center',\n",
       "  'thats',\n",
       "  'expensive'],\n",
       " 'ner_tags': ['O',\n",
       "  'O',\n",
       "  'O',\n",
       "  'O',\n",
       "  'O',\n",
       "  'O',\n",
       "  'O',\n",
       "  'O',\n",
       "  'B-restaurant-area',\n",
       "  'O',\n",
       "  'B-restaurant-pricerange']}"
      ]
     },
     "execution_count": 11,
     "metadata": {},
     "output_type": "execute_result"
    }
   ],
   "source": [
    "label_tokens_json(slot_data_train.iloc[0])"
   ]
  },
  {
   "cell_type": "markdown",
   "id": "44f65d1663270e6e",
   "metadata": {
    "collapsed": false
   },
   "source": [
    "## Training"
   ]
  },
  {
   "cell_type": "markdown",
   "id": "6f98b3768af9fff7",
   "metadata": {
    "collapsed": false
   },
   "source": [
    "### A) CSV"
   ]
  },
  {
   "cell_type": "code",
   "execution_count": 13,
   "id": "cef2246cf682cb9e",
   "metadata": {
    "ExecuteTime": {
     "end_time": "2023-11-11T17:36:43.721262700Z",
     "start_time": "2023-11-11T17:36:41.023674Z"
    },
    "collapsed": false
   },
   "outputs": [],
   "source": [
    "# Apply the labeling function\n",
    "labeled_data = slot_data_train.apply(label_words_csv, axis=1, result_type='expand')"
   ]
  },
  {
   "cell_type": "code",
   "execution_count": 14,
   "id": "9c1401c99344eee3",
   "metadata": {
    "ExecuteTime": {
     "end_time": "2023-11-11T17:36:44.349590800Z",
     "start_time": "2023-11-11T17:36:44.322335200Z"
    },
    "collapsed": false
   },
   "outputs": [
    {
     "data": {
      "text/html": [
       "<div>\n",
       "<style scoped>\n",
       "    .dataframe tbody tr th:only-of-type {\n",
       "        vertical-align: middle;\n",
       "    }\n",
       "\n",
       "    .dataframe tbody tr th {\n",
       "        vertical-align: top;\n",
       "    }\n",
       "\n",
       "    .dataframe thead th {\n",
       "        text-align: right;\n",
       "    }\n",
       "</style>\n",
       "<table border=\"1\" class=\"dataframe\">\n",
       "  <thead>\n",
       "    <tr style=\"text-align: right;\">\n",
       "      <th></th>\n",
       "      <th></th>\n",
       "      <th>text</th>\n",
       "      <th>labels</th>\n",
       "    </tr>\n",
       "    <tr>\n",
       "      <th>dialogue_id</th>\n",
       "      <th>turn_id</th>\n",
       "      <th></th>\n",
       "      <th></th>\n",
       "    </tr>\n",
       "  </thead>\n",
       "  <tbody>\n",
       "    <tr>\n",
       "      <th rowspan=\"5\" valign=\"top\">PMUL4398.json</th>\n",
       "      <th>0</th>\n",
       "      <td>i need a place to dine in the center thats exp...</td>\n",
       "      <td>['O', 'O', 'O', 'O', 'O', 'O', 'O', 'O', 'B-re...</td>\n",
       "    </tr>\n",
       "    <tr>\n",
       "      <th>2</th>\n",
       "      <td>Any sort of food would be fine, as long as it ...</td>\n",
       "      <td>['O', 'O', 'O', 'O', 'O', 'O', 'O', 'O', 'O', ...</td>\n",
       "    </tr>\n",
       "    <tr>\n",
       "      <th>4</th>\n",
       "      <td>Sounds good, could I get that phone number? Al...</td>\n",
       "      <td>['O', 'O', 'O', 'O', 'O', 'O', 'O', 'O', 'O', ...</td>\n",
       "    </tr>\n",
       "    <tr>\n",
       "      <th>6</th>\n",
       "      <td>Yes. Can you book it for me?</td>\n",
       "      <td>['O', 'O', 'O', 'O', 'O', 'O', 'O']</td>\n",
       "    </tr>\n",
       "    <tr>\n",
       "      <th>8</th>\n",
       "      <td>i want to book it for 2 people and 2 nights st...</td>\n",
       "      <td>['O', 'O', 'O', 'O', 'O', 'O', 'B-hotel-bookst...</td>\n",
       "    </tr>\n",
       "    <tr>\n",
       "      <th>...</th>\n",
       "      <th>...</th>\n",
       "      <td>...</td>\n",
       "      <td>...</td>\n",
       "    </tr>\n",
       "    <tr>\n",
       "      <th rowspan=\"5\" valign=\"top\">WOZ20469.json</th>\n",
       "      <th>0</th>\n",
       "      <td>Hello, I am looking for a cheap restaurant tha...</td>\n",
       "      <td>['O', 'O', 'O', 'O', 'O', 'O', 'B-restaurant-p...</td>\n",
       "    </tr>\n",
       "    <tr>\n",
       "      <th>2</th>\n",
       "      <td>Yes, how about portuguese food?</td>\n",
       "      <td>['O', 'O', 'O', 'B-restaurant-food', 'O']</td>\n",
       "    </tr>\n",
       "    <tr>\n",
       "      <th>4</th>\n",
       "      <td>It doesn't matter.</td>\n",
       "      <td>['O', 'B-restaurant-area', 'I-restaurant-area']</td>\n",
       "    </tr>\n",
       "    <tr>\n",
       "      <th>6</th>\n",
       "      <td>I would like the address of Nandos restaurant,...</td>\n",
       "      <td>['O', 'O', 'O', 'O', 'O', 'O', 'B-restaurant-n...</td>\n",
       "    </tr>\n",
       "    <tr>\n",
       "      <th>8</th>\n",
       "      <td>Thank you, goodbye.</td>\n",
       "      <td>['O', 'O', 'O']</td>\n",
       "    </tr>\n",
       "  </tbody>\n",
       "</table>\n",
       "<p>33120 rows × 2 columns</p>\n",
       "</div>"
      ],
      "text/plain": [
       "                                                                    text  \\\n",
       "dialogue_id   turn_id                                                      \n",
       "PMUL4398.json 0        i need a place to dine in the center thats exp...   \n",
       "              2        Any sort of food would be fine, as long as it ...   \n",
       "              4        Sounds good, could I get that phone number? Al...   \n",
       "              6                             Yes. Can you book it for me?   \n",
       "              8        i want to book it for 2 people and 2 nights st...   \n",
       "...                                                                  ...   \n",
       "WOZ20469.json 0        Hello, I am looking for a cheap restaurant tha...   \n",
       "              2                          Yes, how about portuguese food?   \n",
       "              4                                       It doesn't matter.   \n",
       "              6        I would like the address of Nandos restaurant,...   \n",
       "              8                                      Thank you, goodbye.   \n",
       "\n",
       "                                                                  labels  \n",
       "dialogue_id   turn_id                                                     \n",
       "PMUL4398.json 0        ['O', 'O', 'O', 'O', 'O', 'O', 'O', 'O', 'B-re...  \n",
       "              2        ['O', 'O', 'O', 'O', 'O', 'O', 'O', 'O', 'O', ...  \n",
       "              4        ['O', 'O', 'O', 'O', 'O', 'O', 'O', 'O', 'O', ...  \n",
       "              6                      ['O', 'O', 'O', 'O', 'O', 'O', 'O']  \n",
       "              8        ['O', 'O', 'O', 'O', 'O', 'O', 'B-hotel-bookst...  \n",
       "...                                                                  ...  \n",
       "WOZ20469.json 0        ['O', 'O', 'O', 'O', 'O', 'O', 'B-restaurant-p...  \n",
       "              2                ['O', 'O', 'O', 'B-restaurant-food', 'O']  \n",
       "              4          ['O', 'B-restaurant-area', 'I-restaurant-area']  \n",
       "              6        ['O', 'O', 'O', 'O', 'O', 'O', 'B-restaurant-n...  \n",
       "              8                                          ['O', 'O', 'O']  \n",
       "\n",
       "[33120 rows x 2 columns]"
      ]
     },
     "execution_count": 14,
     "metadata": {},
     "output_type": "execute_result"
    }
   ],
   "source": [
    "labeled_data"
   ]
  },
  {
   "cell_type": "code",
   "execution_count": 15,
   "id": "95aff6ed9517a23c",
   "metadata": {
    "ExecuteTime": {
     "end_time": "2023-11-11T17:36:48.476333500Z",
     "start_time": "2023-11-11T17:36:48.331295700Z"
    },
    "collapsed": false
   },
   "outputs": [],
   "source": [
    "# Save to CSV\n",
    "labeled_data.to_csv('train_file.csv', index=False)"
   ]
  },
  {
   "cell_type": "markdown",
   "id": "4f0830f4fd96274b",
   "metadata": {
    "collapsed": false
   },
   "source": [
    "### B) JSON"
   ]
  },
  {
   "cell_type": "code",
   "execution_count": 16,
   "id": "5f0aed7f667167bb",
   "metadata": {
    "ExecuteTime": {
     "end_time": "2023-11-11T17:36:58.219329800Z",
     "start_time": "2023-11-11T17:36:51.872834800Z"
    },
    "collapsed": false
   },
   "outputs": [],
   "source": [
    "# Apply the labeling function and get a list of JSON strings\n",
    "labeled_data_json_strings = slot_data_train.apply(label_tokens_json, axis=1)"
   ]
  },
  {
   "cell_type": "code",
   "execution_count": 17,
   "id": "436c096e94c08f48",
   "metadata": {
    "ExecuteTime": {
     "end_time": "2023-11-11T17:36:59.164615500Z",
     "start_time": "2023-11-11T17:36:59.133050600Z"
    },
    "collapsed": false
   },
   "outputs": [
    {
     "data": {
      "text/plain": [
       "dialogue_id    turn_id\n",
       "PMUL4398.json  0          {'text': ['i', 'need', 'a', 'place', 'to', 'di...\n",
       "               2          {'text': ['any', 'sort', 'of', 'food', 'would'...\n",
       "               4          {'text': ['sounds', 'good', ',', 'could', 'i',...\n",
       "               6          {'text': ['yes', '.', 'can', 'you', 'book', 'i...\n",
       "               8          {'text': ['i', 'want', 'to', 'book', 'it', 'fo...\n",
       "                                                ...                        \n",
       "WOZ20469.json  0          {'text': ['hello', ',', 'i', 'am', 'looking', ...\n",
       "               2          {'text': ['yes', ',', 'how', 'about', 'portugu...\n",
       "               4          {'text': ['it', 'doesn', ''', 't', 'matter', '...\n",
       "               6          {'text': ['i', 'would', 'like', 'the', 'addres...\n",
       "               8          {'text': ['thank', 'you', ',', 'goodbye', '.']...\n",
       "Length: 33120, dtype: object"
      ]
     },
     "execution_count": 17,
     "metadata": {},
     "output_type": "execute_result"
    }
   ],
   "source": [
    "labeled_data_json_strings"
   ]
  },
  {
   "cell_type": "code",
   "execution_count": 18,
   "id": "1a8da2575fc49d1d",
   "metadata": {
    "ExecuteTime": {
     "end_time": "2023-11-11T17:37:02.049674100Z",
     "start_time": "2023-11-11T17:37:01.739669900Z"
    },
    "collapsed": false
   },
   "outputs": [],
   "source": [
    "# Write the JSON strings to a file\n",
    "with open('train_file.json', 'w') as f:\n",
    "    for item in labeled_data_json_strings:\n",
    "        json_string = json.dumps(item)  # Convert the dictionary to a JSON string\n",
    "        f.write(json_string + '\\n')"
   ]
  },
  {
   "cell_type": "markdown",
   "id": "b24f99ca91f20d07",
   "metadata": {
    "collapsed": false
   },
   "source": [
    "## Validation"
   ]
  },
  {
   "cell_type": "markdown",
   "id": "6ab03a5b4e1ea2b8",
   "metadata": {
    "collapsed": false
   },
   "source": [
    "### A) CSV"
   ]
  },
  {
   "cell_type": "code",
   "execution_count": 19,
   "id": "68fbbdd898d888e1",
   "metadata": {
    "ExecuteTime": {
     "end_time": "2023-11-11T17:37:05.964467600Z",
     "start_time": "2023-11-11T17:37:05.687958700Z"
    },
    "collapsed": false
   },
   "outputs": [],
   "source": [
    "# Apply the labeling function\n",
    "labeled_data = slot_data_validation.apply(label_words_csv, axis=1, result_type='expand')"
   ]
  },
  {
   "cell_type": "code",
   "execution_count": 20,
   "id": "600c2d0b2922f38a",
   "metadata": {
    "ExecuteTime": {
     "end_time": "2023-11-11T17:37:07.351741700Z",
     "start_time": "2023-11-11T17:37:07.311218900Z"
    },
    "collapsed": false
   },
   "outputs": [
    {
     "data": {
      "text/html": [
       "<div>\n",
       "<style scoped>\n",
       "    .dataframe tbody tr th:only-of-type {\n",
       "        vertical-align: middle;\n",
       "    }\n",
       "\n",
       "    .dataframe tbody tr th {\n",
       "        vertical-align: top;\n",
       "    }\n",
       "\n",
       "    .dataframe thead th {\n",
       "        text-align: right;\n",
       "    }\n",
       "</style>\n",
       "<table border=\"1\" class=\"dataframe\">\n",
       "  <thead>\n",
       "    <tr style=\"text-align: right;\">\n",
       "      <th></th>\n",
       "      <th></th>\n",
       "      <th>text</th>\n",
       "      <th>labels</th>\n",
       "    </tr>\n",
       "    <tr>\n",
       "      <th>dialogue_id</th>\n",
       "      <th>turn_id</th>\n",
       "      <th></th>\n",
       "      <th></th>\n",
       "    </tr>\n",
       "  </thead>\n",
       "  <tbody>\n",
       "    <tr>\n",
       "      <th rowspan=\"3\" valign=\"top\">PMUL0698.json</th>\n",
       "      <th>0</th>\n",
       "      <td>I'm looking for a local place to dine in the c...</td>\n",
       "      <td>['O', 'O', 'O', 'O', 'O', 'O', 'O', 'O', 'O', ...</td>\n",
       "    </tr>\n",
       "    <tr>\n",
       "      <th>2</th>\n",
       "      <td>I need the address, postcode and the price range.</td>\n",
       "      <td>['O', 'O', 'O', 'O', 'O', 'O', 'O', 'O', 'O']</td>\n",
       "    </tr>\n",
       "    <tr>\n",
       "      <th>10</th>\n",
       "      <td>No, this is all I will need. Thank you.</td>\n",
       "      <td>['O', 'O', 'O', 'O', 'O', 'O', 'O', 'O', 'O']</td>\n",
       "    </tr>\n",
       "    <tr>\n",
       "      <th rowspan=\"2\" valign=\"top\">PMUL3233.json</th>\n",
       "      <th>0</th>\n",
       "      <td>My husband and I are celebrating our anniversa...</td>\n",
       "      <td>['O', 'O', 'O', 'O', 'O', 'O', 'O', 'O', 'O', ...</td>\n",
       "    </tr>\n",
       "    <tr>\n",
       "      <th>2</th>\n",
       "      <td>I would like a 4 star guesthouse that includes...</td>\n",
       "      <td>['O', 'O', 'O', 'O', 'B-hotel-stars', 'O', 'B-...</td>\n",
       "    </tr>\n",
       "    <tr>\n",
       "      <th>...</th>\n",
       "      <th>...</th>\n",
       "      <td>...</td>\n",
       "      <td>...</td>\n",
       "    </tr>\n",
       "    <tr>\n",
       "      <th rowspan=\"5\" valign=\"top\">PMUL0077.json</th>\n",
       "      <th>2</th>\n",
       "      <td>Just someting in the moderate price range is a...</td>\n",
       "      <td>['O', 'O', 'O', 'O', 'B-restaurant-pricerange'...</td>\n",
       "    </tr>\n",
       "    <tr>\n",
       "      <th>4</th>\n",
       "      <td>How about modern European food?</td>\n",
       "      <td>['O', 'O', 'B-restaurant-food', 'I-restaurant-...</td>\n",
       "    </tr>\n",
       "    <tr>\n",
       "      <th>6</th>\n",
       "      <td>Sounds good can you make a booking for 7 peopl...</td>\n",
       "      <td>['O', 'O', 'O', 'O', 'O', 'O', 'O', 'O', 'B-re...</td>\n",
       "    </tr>\n",
       "    <tr>\n",
       "      <th>8</th>\n",
       "      <td>I also need to get some information about The ...</td>\n",
       "      <td>['O', 'O', 'O', 'O', 'O', 'O', 'O', 'O', 'O', ...</td>\n",
       "    </tr>\n",
       "    <tr>\n",
       "      <th>10</th>\n",
       "      <td>Not at this time, thank you.</td>\n",
       "      <td>['O', 'O', 'O', 'O', 'O', 'O']</td>\n",
       "    </tr>\n",
       "  </tbody>\n",
       "</table>\n",
       "<p>3986 rows × 2 columns</p>\n",
       "</div>"
      ],
      "text/plain": [
       "                                                                    text  \\\n",
       "dialogue_id   turn_id                                                      \n",
       "PMUL0698.json 0        I'm looking for a local place to dine in the c...   \n",
       "              2        I need the address, postcode and the price range.   \n",
       "              10                 No, this is all I will need. Thank you.   \n",
       "PMUL3233.json 0        My husband and I are celebrating our anniversa...   \n",
       "              2        I would like a 4 star guesthouse that includes...   \n",
       "...                                                                  ...   \n",
       "PMUL0077.json 2        Just someting in the moderate price range is a...   \n",
       "              4                          How about modern European food?   \n",
       "              6        Sounds good can you make a booking for 7 peopl...   \n",
       "              8        I also need to get some information about The ...   \n",
       "              10                            Not at this time, thank you.   \n",
       "\n",
       "                                                                  labels  \n",
       "dialogue_id   turn_id                                                     \n",
       "PMUL0698.json 0        ['O', 'O', 'O', 'O', 'O', 'O', 'O', 'O', 'O', ...  \n",
       "              2            ['O', 'O', 'O', 'O', 'O', 'O', 'O', 'O', 'O']  \n",
       "              10           ['O', 'O', 'O', 'O', 'O', 'O', 'O', 'O', 'O']  \n",
       "PMUL3233.json 0        ['O', 'O', 'O', 'O', 'O', 'O', 'O', 'O', 'O', ...  \n",
       "              2        ['O', 'O', 'O', 'O', 'B-hotel-stars', 'O', 'B-...  \n",
       "...                                                                  ...  \n",
       "PMUL0077.json 2        ['O', 'O', 'O', 'O', 'B-restaurant-pricerange'...  \n",
       "              4        ['O', 'O', 'B-restaurant-food', 'I-restaurant-...  \n",
       "              6        ['O', 'O', 'O', 'O', 'O', 'O', 'O', 'O', 'B-re...  \n",
       "              8        ['O', 'O', 'O', 'O', 'O', 'O', 'O', 'O', 'O', ...  \n",
       "              10                          ['O', 'O', 'O', 'O', 'O', 'O']  \n",
       "\n",
       "[3986 rows x 2 columns]"
      ]
     },
     "execution_count": 20,
     "metadata": {},
     "output_type": "execute_result"
    }
   ],
   "source": [
    "labeled_data"
   ]
  },
  {
   "cell_type": "code",
   "execution_count": 21,
   "id": "cd96fc313aa7d5f4",
   "metadata": {
    "ExecuteTime": {
     "end_time": "2023-11-11T17:37:10.823310100Z",
     "start_time": "2023-11-11T17:37:10.777074400Z"
    },
    "collapsed": false
   },
   "outputs": [],
   "source": [
    "# Save to CSV\n",
    "labeled_data.to_csv('validation_file.csv', index=False)"
   ]
  },
  {
   "cell_type": "markdown",
   "id": "332ba90e77aa13ee",
   "metadata": {
    "collapsed": false
   },
   "source": [
    "### B) JSON"
   ]
  },
  {
   "cell_type": "code",
   "execution_count": 22,
   "id": "72bc8673f32d7a01",
   "metadata": {
    "ExecuteTime": {
     "end_time": "2023-11-11T17:37:16.440743800Z",
     "start_time": "2023-11-11T17:37:14.587116200Z"
    },
    "collapsed": false
   },
   "outputs": [],
   "source": [
    "# Apply the labeling function and get a list of JSON strings\n",
    "labeled_data_json_strings = slot_data_validation.apply(label_tokens_json, axis=1)"
   ]
  },
  {
   "cell_type": "code",
   "execution_count": 23,
   "id": "6410c6d525137938",
   "metadata": {
    "ExecuteTime": {
     "end_time": "2023-11-11T17:37:17.979083600Z",
     "start_time": "2023-11-11T17:37:17.955091500Z"
    },
    "collapsed": false
   },
   "outputs": [
    {
     "data": {
      "text/plain": [
       "dialogue_id    turn_id\n",
       "PMUL0698.json  0          {'text': ['i', ''', 'm', 'looking', 'for', 'a'...\n",
       "               2          {'text': ['i', 'need', 'the', 'address', ',', ...\n",
       "               10         {'text': ['no', ',', 'this', 'is', 'all', 'i',...\n",
       "PMUL3233.json  0          {'text': ['my', 'husband', 'and', 'i', 'are', ...\n",
       "               2          {'text': ['i', 'would', 'like', 'a', '4', 'sta...\n",
       "                                                ...                        \n",
       "PMUL0077.json  2          {'text': ['just', 'someting', 'in', 'the', 'mo...\n",
       "               4          {'text': ['how', 'about', 'modern', 'european'...\n",
       "               6          {'text': ['sounds', 'good', 'can', 'you', 'mak...\n",
       "               8          {'text': ['i', 'also', 'need', 'to', 'get', 's...\n",
       "               10         {'text': ['not', 'at', 'this', 'time', ',', 't...\n",
       "Length: 3986, dtype: object"
      ]
     },
     "execution_count": 23,
     "metadata": {},
     "output_type": "execute_result"
    }
   ],
   "source": [
    "labeled_data_json_strings"
   ]
  },
  {
   "cell_type": "code",
   "execution_count": 26,
   "id": "ce8cd2d003e88d97",
   "metadata": {
    "ExecuteTime": {
     "end_time": "2023-11-11T17:37:35.204635200Z",
     "start_time": "2023-11-11T17:37:35.158593800Z"
    },
    "collapsed": false
   },
   "outputs": [],
   "source": [
    "# Write the JSON strings to a file\n",
    "with open('validation_file.json', 'w') as f:\n",
    "    for item in labeled_data_json_strings:\n",
    "        json_string = json.dumps(item)  # Convert the dictionary to a JSON string\n",
    "        f.write(json_string + '\\n')"
   ]
  },
  {
   "cell_type": "markdown",
   "id": "b1d193597f82a178",
   "metadata": {
    "collapsed": false
   },
   "source": [
    "## Testing"
   ]
  },
  {
   "cell_type": "markdown",
   "id": "d065cf9589fa1621",
   "metadata": {
    "collapsed": false
   },
   "source": [
    "### A) CSV"
   ]
  },
  {
   "cell_type": "code",
   "execution_count": 27,
   "id": "cd2e57573561274c",
   "metadata": {
    "ExecuteTime": {
     "end_time": "2023-11-11T17:37:40.217478900Z",
     "start_time": "2023-11-11T17:37:39.988578900Z"
    },
    "collapsed": false
   },
   "outputs": [],
   "source": [
    "# Apply the labeling function\n",
    "labeled_data = slot_data_test.apply(label_words_csv, axis=1, result_type='expand')"
   ]
  },
  {
   "cell_type": "code",
   "execution_count": 28,
   "id": "7c5a3cc6b0533421",
   "metadata": {
    "ExecuteTime": {
     "end_time": "2023-11-11T17:37:41.764112200Z",
     "start_time": "2023-11-11T17:37:41.749600800Z"
    },
    "collapsed": false
   },
   "outputs": [
    {
     "data": {
      "text/html": [
       "<div>\n",
       "<style scoped>\n",
       "    .dataframe tbody tr th:only-of-type {\n",
       "        vertical-align: middle;\n",
       "    }\n",
       "\n",
       "    .dataframe tbody tr th {\n",
       "        vertical-align: top;\n",
       "    }\n",
       "\n",
       "    .dataframe thead th {\n",
       "        text-align: right;\n",
       "    }\n",
       "</style>\n",
       "<table border=\"1\" class=\"dataframe\">\n",
       "  <thead>\n",
       "    <tr style=\"text-align: right;\">\n",
       "      <th></th>\n",
       "      <th></th>\n",
       "      <th>text</th>\n",
       "      <th>labels</th>\n",
       "    </tr>\n",
       "    <tr>\n",
       "      <th>dialogue_id</th>\n",
       "      <th>turn_id</th>\n",
       "      <th></th>\n",
       "      <th></th>\n",
       "    </tr>\n",
       "  </thead>\n",
       "  <tbody>\n",
       "    <tr>\n",
       "      <th rowspan=\"4\" valign=\"top\">PMUL4462.json</th>\n",
       "      <th>0</th>\n",
       "      <td>Hello, I am looking for a restaurant in Cambri...</td>\n",
       "      <td>['O', 'O', 'O', 'O', 'O', 'O', 'O', 'O', 'O', ...</td>\n",
       "    </tr>\n",
       "    <tr>\n",
       "      <th>2</th>\n",
       "      <td>Can you book me a table for 11:00 on Friday?</td>\n",
       "      <td>['O', 'O', 'O', 'O', 'O', 'O', 'O', 'B-restaur...</td>\n",
       "    </tr>\n",
       "    <tr>\n",
       "      <th>4</th>\n",
       "      <td>Actually, for 4, please.</td>\n",
       "      <td>['O', 'O', 'B-restaurant-bookpeople', 'O']</td>\n",
       "    </tr>\n",
       "    <tr>\n",
       "      <th>18</th>\n",
       "      <td>Thanks for the service, good day.</td>\n",
       "      <td>['O', 'O', 'O', 'O', 'O', 'O']</td>\n",
       "    </tr>\n",
       "    <tr>\n",
       "      <th>PMUL0320.json</th>\n",
       "      <th>0</th>\n",
       "      <td>Hi, I'm looking for a hotel to stay in that in...</td>\n",
       "      <td>['O', 'O', 'O', 'O', 'O', 'B-hotel-type', 'O',...</td>\n",
       "    </tr>\n",
       "    <tr>\n",
       "      <th>...</th>\n",
       "      <th>...</th>\n",
       "      <td>...</td>\n",
       "      <td>...</td>\n",
       "    </tr>\n",
       "    <tr>\n",
       "      <th rowspan=\"5\" valign=\"top\">MUL0641.json</th>\n",
       "      <th>8</th>\n",
       "      <td>Ok, is there one that you would recommend?</td>\n",
       "      <td>['O', 'O', 'O', 'O', 'O', 'O', 'O', 'O']</td>\n",
       "    </tr>\n",
       "    <tr>\n",
       "      <th>12</th>\n",
       "      <td>Where is the hotel located?</td>\n",
       "      <td>['O', 'O', 'O', 'O', 'O']</td>\n",
       "    </tr>\n",
       "    <tr>\n",
       "      <th>14</th>\n",
       "      <td>What area of town is the hotel in?</td>\n",
       "      <td>['O', 'O', 'O', 'O', 'O', 'O', 'O', 'O']</td>\n",
       "    </tr>\n",
       "    <tr>\n",
       "      <th>16</th>\n",
       "      <td>Does it have free parking?</td>\n",
       "      <td>['O', 'O', 'O', 'O', 'O']</td>\n",
       "    </tr>\n",
       "    <tr>\n",
       "      <th>22</th>\n",
       "      <td>No, that would be all. Thank you.</td>\n",
       "      <td>['O', 'O', 'O', 'O', 'O', 'O', 'O']</td>\n",
       "    </tr>\n",
       "  </tbody>\n",
       "</table>\n",
       "<p>3940 rows × 2 columns</p>\n",
       "</div>"
      ],
      "text/plain": [
       "                                                                    text  \\\n",
       "dialogue_id   turn_id                                                      \n",
       "PMUL4462.json 0        Hello, I am looking for a restaurant in Cambri...   \n",
       "              2             Can you book me a table for 11:00 on Friday?   \n",
       "              4                                 Actually, for 4, please.   \n",
       "              18                       Thanks for the service, good day.   \n",
       "PMUL0320.json 0        Hi, I'm looking for a hotel to stay in that in...   \n",
       "...                                                                  ...   \n",
       "MUL0641.json  8               Ok, is there one that you would recommend?   \n",
       "              12                             Where is the hotel located?   \n",
       "              14                      What area of town is the hotel in?   \n",
       "              16                              Does it have free parking?   \n",
       "              22                       No, that would be all. Thank you.   \n",
       "\n",
       "                                                                  labels  \n",
       "dialogue_id   turn_id                                                     \n",
       "PMUL4462.json 0        ['O', 'O', 'O', 'O', 'O', 'O', 'O', 'O', 'O', ...  \n",
       "              2        ['O', 'O', 'O', 'O', 'O', 'O', 'O', 'B-restaur...  \n",
       "              4               ['O', 'O', 'B-restaurant-bookpeople', 'O']  \n",
       "              18                          ['O', 'O', 'O', 'O', 'O', 'O']  \n",
       "PMUL0320.json 0        ['O', 'O', 'O', 'O', 'O', 'B-hotel-type', 'O',...  \n",
       "...                                                                  ...  \n",
       "MUL0641.json  8                 ['O', 'O', 'O', 'O', 'O', 'O', 'O', 'O']  \n",
       "              12                               ['O', 'O', 'O', 'O', 'O']  \n",
       "              14                ['O', 'O', 'O', 'O', 'O', 'O', 'O', 'O']  \n",
       "              16                               ['O', 'O', 'O', 'O', 'O']  \n",
       "              22                     ['O', 'O', 'O', 'O', 'O', 'O', 'O']  \n",
       "\n",
       "[3940 rows x 2 columns]"
      ]
     },
     "execution_count": 28,
     "metadata": {},
     "output_type": "execute_result"
    }
   ],
   "source": [
    "labeled_data"
   ]
  },
  {
   "cell_type": "code",
   "execution_count": 29,
   "id": "299c4040b06b0beb",
   "metadata": {
    "ExecuteTime": {
     "end_time": "2023-11-11T17:37:43.842401900Z",
     "start_time": "2023-11-11T17:37:43.800883900Z"
    },
    "collapsed": false
   },
   "outputs": [],
   "source": [
    "# Save to CSV\n",
    "labeled_data.to_csv('test_file.csv', index=False)"
   ]
  },
  {
   "cell_type": "markdown",
   "id": "a83324b616ec2610",
   "metadata": {
    "collapsed": false
   },
   "source": [
    "### B) JSON"
   ]
  },
  {
   "cell_type": "code",
   "execution_count": 30,
   "id": "1204674b94629bbf",
   "metadata": {
    "ExecuteTime": {
     "end_time": "2023-11-11T17:37:48.772035700Z",
     "start_time": "2023-11-11T17:37:47.249896300Z"
    },
    "collapsed": false
   },
   "outputs": [],
   "source": [
    "# Apply the labeling function and get a list of JSON strings\n",
    "labeled_data_json_strings = slot_data_test.apply(label_tokens_json, axis=1)"
   ]
  },
  {
   "cell_type": "code",
   "execution_count": 31,
   "id": "e2ac92a0e5a7c9b7",
   "metadata": {
    "ExecuteTime": {
     "end_time": "2023-11-11T17:37:49.441345600Z",
     "start_time": "2023-11-11T17:37:49.416344Z"
    },
    "collapsed": false
   },
   "outputs": [
    {
     "data": {
      "text/plain": [
       "dialogue_id    turn_id\n",
       "PMUL4462.json  0          {'text': ['hello', ',', 'i', 'am', 'looking', ...\n",
       "               2          {'text': ['can', 'you', 'book', 'me', 'a', 'ta...\n",
       "               4          {'text': ['actually', ',', 'for', '4', ',', 'p...\n",
       "               18         {'text': ['thanks', 'for', 'the', 'service', '...\n",
       "PMUL0320.json  0          {'text': ['hi', ',', 'i', ''', 'm', 'looking',...\n",
       "                                                ...                        \n",
       "MUL0641.json   8          {'text': ['ok', ',', 'is', 'there', 'one', 'th...\n",
       "               12         {'text': ['where', 'is', 'the', 'hotel', 'loca...\n",
       "               14         {'text': ['what', 'area', 'of', 'town', 'is', ...\n",
       "               16         {'text': ['does', 'it', 'have', 'free', 'parki...\n",
       "               22         {'text': ['no', ',', 'that', 'would', 'be', 'a...\n",
       "Length: 3940, dtype: object"
      ]
     },
     "execution_count": 31,
     "metadata": {},
     "output_type": "execute_result"
    }
   ],
   "source": [
    "labeled_data_json_strings"
   ]
  },
  {
   "cell_type": "code",
   "execution_count": 32,
   "id": "4ae1575c9775704d",
   "metadata": {
    "ExecuteTime": {
     "end_time": "2023-11-11T17:37:52.500598900Z",
     "start_time": "2023-11-11T17:37:52.456988400Z"
    },
    "collapsed": false
   },
   "outputs": [],
   "source": [
    "# Write the JSON strings to a file\n",
    "with open('test_file.json', 'w') as f:\n",
    "    for item in labeled_data_json_strings:\n",
    "        json_string = json.dumps(item)  # Convert the dictionary to a JSON string\n",
    "        f.write(json_string + '\\n')"
   ]
  }
 ],
 "metadata": {
  "kernelspec": {
   "display_name": "Python 3",
   "language": "python",
   "name": "python3"
  },
  "language_info": {
   "codemirror_mode": {
    "name": "ipython",
    "version": 3
   },
   "file_extension": ".py",
   "mimetype": "text/x-python",
   "name": "python",
   "nbconvert_exporter": "python",
   "pygments_lexer": "ipython3",
   "version": "3.8.18"
  }
 },
 "nbformat": 4,
 "nbformat_minor": 5
}
